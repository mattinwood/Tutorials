{
 "cells": [
  {
   "cell_type": "code",
   "execution_count": 1,
   "metadata": {},
   "outputs": [],
   "source": [
    "import set_player\n",
    "from selenium import webdriver\n",
    "from selenium.webdriver.support.ui import WebDriverWait\n",
    "from selenium.webdriver.support import expected_conditions as EC\n",
    "from os import getenv"
   ]
  },
  {
   "cell_type": "markdown",
   "metadata": {},
   "source": [
    "### Initialize the browser"
   ]
  },
  {
   "cell_type": "code",
   "execution_count": 2,
   "metadata": {},
   "outputs": [],
   "source": [
    "browser = webdriver.Firefox()\n",
    "browser.set_window_size(800, 1800)"
   ]
  },
  {
   "cell_type": "markdown",
   "metadata": {},
   "source": [
    "### Go to a website"
   ]
  },
  {
   "cell_type": "code",
   "execution_count": null,
   "metadata": {},
   "outputs": [],
   "source": [
    "browser.get('https://www.nytimes.com/puzzles/set')\n",
    "browser.execute_script(\"window.scrollTo(0, 380)\")"
   ]
  },
  {
   "cell_type": "markdown",
   "metadata": {},
   "source": [
    "### Finding our first element"
   ]
  },
  {
   "cell_type": "code",
   "execution_count": null,
   "metadata": {},
   "outputs": [],
   "source": [
    "cards = browser.find_elements_by_class_name('set-board-card')\n",
    "print(len(cards))"
   ]
  },
  {
   "cell_type": "markdown",
   "metadata": {},
   "source": [
    "### Interaction"
   ]
  },
  {
   "cell_type": "code",
   "execution_count": null,
   "metadata": {},
   "outputs": [],
   "source": [
    "cards[0].click()"
   ]
  },
  {
   "cell_type": "markdown",
   "metadata": {},
   "source": [
    "### Data from elements"
   ]
  },
  {
   "cell_type": "code",
   "execution_count": null,
   "metadata": {},
   "outputs": [],
   "source": [
    "card_elements = cards[0].find_elements_by_css_selector('svg')\n",
    "\n",
    "fill = card_elements[0].find_element_by_css_selector('use')\\\n",
    "    .get_attribute('fill')\n",
    "\n",
    "print(fill)"
   ]
  },
  {
   "cell_type": "code",
   "execution_count": null,
   "metadata": {},
   "outputs": [],
   "source": [
    "pattern = card_elements[0].get_attribute('class')\n",
    "\n",
    "print(pattern)"
   ]
  },
  {
   "cell_type": "markdown",
   "metadata": {},
   "source": [
    "### Navigating & Refrshing"
   ]
  },
  {
   "cell_type": "code",
   "execution_count": null,
   "metadata": {},
   "outputs": [],
   "source": [
    "browser.get('http://www.google.com')"
   ]
  },
  {
   "cell_type": "code",
   "execution_count": null,
   "metadata": {},
   "outputs": [],
   "source": [
    "browser.back()"
   ]
  },
  {
   "cell_type": "code",
   "execution_count": null,
   "metadata": {},
   "outputs": [],
   "source": [
    "browser.forward()"
   ]
  },
  {
   "cell_type": "code",
   "execution_count": null,
   "metadata": {},
   "outputs": [],
   "source": [
    "browser.back()"
   ]
  },
  {
   "cell_type": "code",
   "execution_count": null,
   "metadata": {},
   "outputs": [],
   "source": [
    "browser.refresh()"
   ]
  },
  {
   "cell_type": "markdown",
   "metadata": {},
   "source": [
    "### Solve all the games!"
   ]
  },
  {
   "cell_type": "code",
   "execution_count": null,
   "metadata": {},
   "outputs": [],
   "source": [
    "browser.execute_script(\"window.scrollTo(0, 380)\")\n",
    "for i in range(4):\n",
    "    set_player.solve_game(browser)\n",
    "    try:\n",
    "        browser.find_element_by_class_name('pzm-modal__button')\\\n",
    "        .click()\n",
    "    except:\n",
    "        pass"
   ]
  },
  {
   "cell_type": "markdown",
   "metadata": {},
   "source": [
    "### And now, for something completely different"
   ]
  },
  {
   "cell_type": "code",
   "execution_count": 3,
   "metadata": {},
   "outputs": [],
   "source": [
    "game_id = 54783627\n",
    "game_url = f'https://boardgamearena.com/table?table={game_id}'\n",
    "\n",
    "browser.get(game_url)"
   ]
  },
  {
   "cell_type": "code",
   "execution_count": 4,
   "metadata": {},
   "outputs": [],
   "source": [
    "login_url = 'http://en.boardgamearena.com/#!account?redirect=headlines'\n",
    "browser.get(login_url)"
   ]
  },
  {
   "cell_type": "code",
   "execution_count": 5,
   "metadata": {},
   "outputs": [],
   "source": [
    "browser.find_element_by_id(\"username_input\").clear()\n",
    "username = browser.find_element_by_id(\"username_input\")\n",
    "username.send_keys(getenv('BGG_USER'))"
   ]
  },
  {
   "cell_type": "code",
   "execution_count": 6,
   "metadata": {},
   "outputs": [],
   "source": [
    "browser.find_element_by_id(\"password_input\").clear()\n",
    "password = browser.find_element_by_id(\"password_input\")\n",
    "password.send_keys(getenv('BGG_PASS'))"
   ]
  },
  {
   "cell_type": "code",
   "execution_count": 7,
   "metadata": {},
   "outputs": [
    {
     "data": {
      "text/plain": [
       "True"
      ]
     },
     "execution_count": 7,
     "metadata": {},
     "output_type": "execute_result"
    }
   ],
   "source": [
    "login = browser.find_element_by_id(\"login_button\")\n",
    "login.click()\n",
    "\n",
    "wait = WebDriverWait(browser, 10)\n",
    "wait.until(EC.staleness_of(login))"
   ]
  },
  {
   "cell_type": "markdown",
   "metadata": {},
   "source": [
    "### Once more, with Feeling"
   ]
  },
  {
   "cell_type": "code",
   "execution_count": 8,
   "metadata": {},
   "outputs": [],
   "source": [
    "browser.get(game_url)"
   ]
  },
  {
   "cell_type": "code",
   "execution_count": 9,
   "metadata": {},
   "outputs": [],
   "source": [
    "table = browser.find_element_by_id('player_stats_table')\n",
    "results = {}\n",
    "\n",
    "rows = table.find_elements_by_tag_name('tr')\n",
    "\n",
    "for row in rows:\n",
    "    row_name = row.find_element_by_tag_name('th').text\n",
    "    \n",
    "    if row_name == '':\n",
    "        row_name = 'Player Names'\n",
    "        values = [x.text for x in row.find_elements_by_tag_name('th')]\n",
    "        values.pop(0)\n",
    "    \n",
    "    else:\n",
    "        values = [x.text for x in row.find_elements_by_tag_name('td')]\n",
    "    \n",
    "    if row_name != 'All stats':\n",
    "        results[row_name] = values"
   ]
  },
  {
   "cell_type": "code",
   "execution_count": 11,
   "metadata": {},
   "outputs": [
    {
     "data": {
      "text/plain": [
       "{'Player Names': ['amatei', 'vahinevio'],\n",
       " 'Game result': ['1st (256)', '2nd (170)'],\n",
       " 'Thinking time': ['7:22', '11:18'],\n",
       " 'Final number of people': ['7', '7'],\n",
       " 'Number of buildings built': ['3', '4'],\n",
       " 'Number of civilization cards picked': ['21', '13'],\n",
       " 'Final agriculture level': ['9', '7'],\n",
       " 'Final tool level': ['7', '6'],\n",
       " 'Points scored during the game': ['80', '53'],\n",
       " 'Points won with culture': ['100', '1'],\n",
       " 'Points won with number of buildings': ['6', '28'],\n",
       " 'Points won with agriculture level': ['27', '21'],\n",
       " 'Points won with number of people': ['14', '35'],\n",
       " 'Points won with tool level': ['28', '24']}"
      ]
     },
     "metadata": {},
     "output_type": "display_data"
    }
   ],
   "source": [
    "display(results)"
   ]
  },
  {
   "cell_type": "code",
   "execution_count": 12,
   "metadata": {},
   "outputs": [
    {
     "data": {
      "text/plain": [
       "True"
      ]
     },
     "execution_count": 12,
     "metadata": {},
     "output_type": "execute_result"
    }
   ],
   "source": [
    "browser.save_screenshot('screenshot.png')"
   ]
  },
  {
   "cell_type": "markdown",
   "metadata": {},
   "source": [
    "![title](screenshot.png)"
   ]
  },
  {
   "cell_type": "code",
   "execution_count": null,
   "metadata": {},
   "outputs": [],
   "source": []
  }
 ],
 "metadata": {
  "kernelspec": {
   "display_name": "Python 3",
   "language": "python",
   "name": "python3"
  },
  "language_info": {
   "codemirror_mode": {
    "name": "ipython",
    "version": 3
   },
   "file_extension": ".py",
   "mimetype": "text/x-python",
   "name": "python",
   "nbconvert_exporter": "python",
   "pygments_lexer": "ipython3",
   "version": "3.7.0"
  }
 },
 "nbformat": 4,
 "nbformat_minor": 2
}
